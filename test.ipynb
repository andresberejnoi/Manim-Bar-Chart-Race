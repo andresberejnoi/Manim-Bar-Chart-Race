{
 "cells": [
  {
   "cell_type": "code",
   "execution_count": 1,
   "metadata": {},
   "outputs": [
    {
     "data": {
      "text/html": [
       "<pre style=\"white-space:pre;overflow-x:auto;line-height:normal;font-family:Menlo,'DejaVu Sans Mono',consolas,'Courier New',monospace\">Manim Community <span style=\"color: #008000; text-decoration-color: #008000\">v0.17.3</span>\n",
       "\n",
       "</pre>\n"
      ],
      "text/plain": [
       "Manim Community \u001b[32mv0.\u001b[0m\u001b[32m17.3\u001b[0m\n",
       "\n"
      ]
     },
     "metadata": {},
     "output_type": "display_data"
    }
   ],
   "source": [
    "from manim import *\n",
    "import pandas as pd\n",
    "import numpy as np\n",
    "\n",
    "config.media_width = \"75%\"\n",
    "config.verbosity = \"WARNING\""
   ]
  },
  {
   "cell_type": "code",
   "execution_count": 5,
   "metadata": {},
   "outputs": [
    {
     "name": "stderr",
     "output_type": "stream",
     "text": [
      "                                                                                               \r"
     ]
    },
    {
     "data": {
      "text/html": [
       "<video src=\"media/jupyter/BarChartExample@2023-08-31@21-28-50.mp4\" controls autoplay loop style=\"max-width: 75%;\"  >\n",
       "      Your browser does not support the <code>video</code> element.\n",
       "    </video>"
      ],
      "text/plain": [
       "<IPython.core.display.Video object>"
      ]
     },
     "metadata": {},
     "output_type": "display_data"
    }
   ],
   "source": [
    "%%manim -qm BarChartExample\n",
    "\n",
    "class BarChartExample(Scene):\n",
    "    def construct(self):\n",
    "        chart = BarChart(\n",
    "            values=[-5, 40, 10, -20, 3],\n",
    "            bar_names=['one','two','three','four', 'five'],\n",
    "            y_range=[-20,50, 10],\n",
    "            y_length=6,\n",
    "            x_length=10, \n",
    "            x_axis_config={\"font_size\":36},\n",
    "        )\n",
    "\n",
    "\n",
    "        chart_labels = chart.get_bar_labels(font_size=48)\n",
    "\n",
    "        self.play(Create(chart))"
   ]
  },
  {
   "cell_type": "code",
   "execution_count": 42,
   "metadata": {},
   "outputs": [
    {
     "name": "stderr",
     "output_type": "stream",
     "text": [
      "Animation 0: Create(BarChart of 3 submobjects):   0%|          | 0/30 [00:00<?, ?it/s]<string>:34: DeprecationWarning: This method is not guaranteed to stay around. Please prefer setting the attribute normally or with Mobject.set().\n",
      "Animation 1: _MethodAnimation(ValueTracker), etc.:   0%|          | 0/150 [00:00<?, ?it/s]     <string>:34: DeprecationWarning: This method is not guaranteed to stay around. Please prefer setting the attribute normally or with Mobject.set().\n",
      "                                                                                                    \r"
     ]
    },
    {
     "data": {
      "text/html": [
       "<video src=\"media/jupyter/BarChartExample2@2023-08-31@23-42-07.mp4\" controls autoplay loop style=\"max-width: 75%;\"  >\n",
       "      Your browser does not support the <code>video</code> element.\n",
       "    </video>"
      ],
      "text/plain": [
       "<IPython.core.display.Video object>"
      ]
     },
     "metadata": {},
     "output_type": "display_data"
    }
   ],
   "source": [
    "%%manim -qm BarChartExample2\n",
    "\n",
    "class BarChartExample2(Scene):\n",
    "    def construct(self):\n",
    "\n",
    "        value_trackers = [\n",
    "            ValueTracker(-5),\n",
    "            ValueTracker(40),\n",
    "            ValueTracker(10),\n",
    "            ValueTracker(-20),\n",
    "            ValueTracker(3),\n",
    "        ]\n",
    "\n",
    "        integer_vals = []\n",
    "        for tracker in value_trackers:\n",
    "            integer = Integer()\n",
    "            integer.add_updater(\n",
    "                lambda mob: mob.set_value(tracker.get_value())\n",
    "            )\n",
    "\n",
    "            integer_vals.append(integer)\n",
    "\n",
    "\n",
    "        test_ints = [Integer(-5), Integer(40), Integer(10), Integer(-20), Integer(3)]\n",
    "        chart = BarChart(\n",
    "            values = [i.get_value() for i in integer_vals], #values=[-5, 40, 10, -20, 3],\n",
    "            bar_names=['one','two','three','four', 'five'],\n",
    "            y_range=[-20,50, 10],\n",
    "            y_length=6,\n",
    "            x_length=10, \n",
    "            x_axis_config={\"font_size\":36},\n",
    "        )\n",
    "\n",
    "        chart.add_updater(\n",
    "            lambda mob: mob.set_values([i.get_value() for i in integer_vals])\n",
    "        )\n",
    "\n",
    "        # chart = always_redraw(\n",
    "        #     lambda: BarChart(\n",
    "        #         values = [i.get_value() for i in integer_vals], #values=[-5, 40, 10, -20, 3],\n",
    "        #         bar_names=['one','two','three','four', 'five'],\n",
    "        #         y_range=[-20,50, 10],\n",
    "        #         y_length=6,\n",
    "        #         x_length=10, \n",
    "        #         x_axis_config={\"font_size\":36},\n",
    "        #     )\n",
    "        # )\n",
    "\n",
    "\n",
    "        chart_labels = chart.get_bar_labels(font_size=48)\n",
    "\n",
    "        self.play(Create(chart))\n",
    "\n",
    "        self.play(*[\n",
    "            tracker.animate.set_value(50) for tracker in value_trackers], \n",
    "            run_time=5, \n",
    "            rate_func=linear\n",
    "        )\n",
    "\n",
    "        # self.play(tracker.animate.set_value(4), run_time=10, rate_func=linear)\n",
    "        self.wait(2)"
   ]
  },
  {
   "cell_type": "code",
   "execution_count": 19,
   "metadata": {},
   "outputs": [
    {
     "name": "stderr",
     "output_type": "stream",
     "text": [
      "Animation 0: GrowFromEdge(Square):   0%|          | 0/30 [00:00<?, ?it/s]"
     ]
    },
    {
     "name": "stderr",
     "output_type": "stream",
     "text": [
      "                                                                                  \r"
     ]
    },
    {
     "data": {
      "text/html": [
       "<video src=\"media/jupyter/GrowFromEdgeExample@2023-08-31@22-15-26.mp4\" controls autoplay loop style=\"max-width: 75%;\"  >\n",
       "      Your browser does not support the <code>video</code> element.\n",
       "    </video>"
      ],
      "text/plain": [
       "<IPython.core.display.Video object>"
      ]
     },
     "metadata": {},
     "output_type": "display_data"
    }
   ],
   "source": [
    "%%manim -qm GrowFromEdgeExample\n",
    "\n",
    "class GrowFromEdgeExample(Scene):\n",
    "    def construct(self):\n",
    "        squares = [Square() for _ in range(4)]\n",
    "        VGroup(*squares).set_x(0).arrange(buff=1)\n",
    "        self.play(GrowFromEdge(squares[0], DOWN))\n",
    "        self.play(GrowFromEdge(squares[1], RIGHT))\n",
    "        self.play(GrowFromEdge(squares[2], UR))\n",
    "        self.play(GrowFromEdge(squares[3], UP, point_color=RED))"
   ]
  },
  {
   "cell_type": "code",
   "execution_count": 29,
   "metadata": {},
   "outputs": [
    {
     "name": "stderr",
     "output_type": "stream",
     "text": [
      "                                                                                     \r"
     ]
    },
    {
     "data": {
      "text/html": [
       "<video src=\"media/jupyter/BarChartExample3@2023-08-31@23-08-19.mp4\" controls autoplay loop style=\"max-width: 75%;\"  >\n",
       "      Your browser does not support the <code>video</code> element.\n",
       "    </video>"
      ],
      "text/plain": [
       "<IPython.core.display.Video object>"
      ]
     },
     "metadata": {},
     "output_type": "display_data"
    }
   ],
   "source": [
    "%%manim -qm BarChartExample3\n",
    "\n",
    "class BarChartExample3(Scene):\n",
    "    def construct(self):\n",
    "        chart = BarChart(\n",
    "            values=[-5, 40, 10, -20, 3],\n",
    "            bar_names=['one','two','three','four', 'five'],\n",
    "            y_range=[-20,50, 10],\n",
    "            y_length=6,\n",
    "            x_length=10, \n",
    "            x_axis_config={\"font_size\":36},\n",
    "        )\n",
    "\n",
    "\n",
    "        chart_labels = chart.get_bar_labels(font_size=48)\n",
    "\n",
    "        self.play(Create(chart))\n",
    "\n",
    "        self.play(Succession(*[Indicate(item) for item in chart.submobjects]))\n",
    "        self.wait()\n",
    "\n",
    "        self.play(Succession(*[Indicate(bar) for bar in chart.submobjects[0]]))\n",
    "        self.wait()\n",
    "\n",
    "\n",
    "        "
   ]
  },
  {
   "cell_type": "code",
   "execution_count": 30,
   "metadata": {},
   "outputs": [],
   "source": [
    "chart = BarChart(\n",
    "    values=[-5, 40, 10, -20, 3],\n",
    "    bar_names=['one','two','three','four', 'five'],\n",
    "    y_range=[-20,50, 10],\n",
    "    y_length=6,\n",
    "    x_length=10, \n",
    "    x_axis_config={\"font_size\":36},\n",
    ")\n",
    "\n",
    "\n",
    "chart_labels = chart.get_bar_labels(font_size=48)\n",
    "\n"
   ]
  },
  {
   "cell_type": "code",
   "execution_count": 41,
   "metadata": {},
   "outputs": [
    {
     "data": {
      "text/plain": [
       "<bound method Mobject.__getattr__.<locals>.setter of BarChart(VGroup of 5 submobjects, NumberLine, NumberLine)>"
      ]
     },
     "execution_count": 41,
     "metadata": {},
     "output_type": "execute_result"
    }
   ],
   "source": [
    "r = chart.submobjects[0][1]\n",
    "\n",
    "chart.set_values"
   ]
  },
  {
   "cell_type": "code",
   "execution_count": 39,
   "metadata": {},
   "outputs": [
    {
     "name": "stdout",
     "output_type": "stream",
     "text": [
      "Help on method get_top in module manim.mobject.mobject:\n",
      "\n",
      "get_top() -> 'np.ndarray' method of manim.mobject.geometry.polygram.Rectangle instance\n",
      "    Get top coordinates of a box bounding the :class:`~.Mobject`\n",
      "\n"
     ]
    }
   ],
   "source": [
    "r.add_"
   ]
  },
  {
   "cell_type": "code",
   "execution_count": null,
   "metadata": {},
   "outputs": [],
   "source": [
    "%%manim -qm BarChartExample4\n",
    "\n",
    "class BarChartExample4(Scene):\n",
    "    def construct(self):\n",
    "        chart = BarChart(\n",
    "            values=[-5, 40, 10, -20, 3],\n",
    "            bar_names=['one','two','three','four', 'five'],\n",
    "            y_range=[-20,50, 10],\n",
    "            y_length=6,\n",
    "            x_length=10, \n",
    "            x_axis_config={\"font_size\":36},\n",
    "        )\n",
    "\n",
    "\n",
    "        chart_labels = chart.get_bar_labels(font_size=48)\n",
    "\n",
    "        for i, bar in enumerate(chart.submobjects[0]):\n",
    "            bar.add_updater(\n",
    "                lambda mob: mob.set_value()\n",
    "            )\n",
    "\n",
    "        self.play(Create(chart))\n",
    "\n",
    "        self.play(Succession(*[Indicate(item) for item in chart.submobjects]))\n",
    "        self.wait()\n",
    "\n",
    "        self.play(Succession(*[Indicate(bar) for bar in chart.submobjects[0]]))\n",
    "        self.wait()"
   ]
  },
  {
   "cell_type": "code",
   "execution_count": 5,
   "metadata": {},
   "outputs": [
    {
     "name": "stderr",
     "output_type": "stream",
     "text": [
      "                                                                                               \r"
     ]
    },
    {
     "data": {
      "text/html": [
       "<video src=\"media/jupyter/ChangeBarValuesExample@2023-09-15@23-31-14.mp4\" controls autoplay loop style=\"max-width: 75%;\"  >\n",
       "      Your browser does not support the <code>video</code> element.\n",
       "    </video>"
      ],
      "text/plain": [
       "<IPython.core.display.Video object>"
      ]
     },
     "metadata": {},
     "output_type": "display_data"
    }
   ],
   "source": [
    "%%manim -qk ChangeBarValuesExample\n",
    "\n",
    "\n",
    "class ChangeBarValuesExample(Scene):\n",
    "    def construct(self):\n",
    "        values=[28, 0, 0, 0, 0, 0, 0, 0, 0, 0]\n",
    "        final_values = [33.1, 36, 29.25, 33.58, 4, 4.5, 5, 4.3, 7.2, 5.5]\n",
    "\n",
    "        chart = BarChart(\n",
    "            values,\n",
    "            y_range=[0, 40, 5],\n",
    "            y_length=6.5,\n",
    "            x_length=10,\n",
    "            y_axis_config={\"font_size\": 24},\n",
    "        )\n",
    "        self.play(Create(chart))\n",
    "        self.wait(2)\n",
    "\n",
    "        self.play(chart.animate.change_bar_values(final_values), run_time=3)\n",
    "        self.play(Create(chart.get_bar_labels(font_size=36))) \n",
    "\n",
    "        self.wait(3)  \n",
    "\n"
   ]
  },
  {
   "cell_type": "code",
   "execution_count": 2,
   "metadata": {},
   "outputs": [
    {
     "name": "stderr",
     "output_type": "stream",
     "text": [
      "                                                                                         \r"
     ]
    },
    {
     "data": {
      "text/html": [
       "<video src=\"media/jupyter/StretchTest@2023-09-02@15-54-41.mp4\" controls autoplay loop style=\"max-width: 75%;\"  >\n",
       "      Your browser does not support the <code>video</code> element.\n",
       "    </video>"
      ],
      "text/plain": [
       "<IPython.core.display.Video object>"
      ]
     },
     "metadata": {},
     "output_type": "display_data"
    }
   ],
   "source": [
    "%%manim -qm StretchTest\n",
    "\n",
    "class StretchTest(Scene):\n",
    "    def construct(self):\n",
    "        rec = Rectangle(BLUE, 2, 1.5 )\n",
    "\n",
    "        self.play(Create(rec))\n",
    "\n",
    "        self.play(rec.animate.stretch_to_fit_height(7))\n",
    "\n",
    "        self.wait()\n",
    "\n",
    "        self.play(rec.animate.stretch_to_fit_height(3))\n",
    "        self.wait()\n"
   ]
  },
  {
   "cell_type": "code",
   "execution_count": 5,
   "metadata": {},
   "outputs": [
    {
     "name": "stderr",
     "output_type": "stream",
     "text": [
      "                                                                                                    \r"
     ]
    },
    {
     "data": {
      "text/html": [
       "<video src=\"media/jupyter/ChangeBarValuesExample2@2023-09-02@16-26-31.mp4\" controls autoplay loop style=\"max-width: 75%;\"  >\n",
       "      Your browser does not support the <code>video</code> element.\n",
       "    </video>"
      ],
      "text/plain": [
       "<IPython.core.display.Video object>"
      ]
     },
     "metadata": {},
     "output_type": "display_data"
    }
   ],
   "source": [
    "%%manim -qm ChangeBarValuesExample2\n",
    "\n",
    "\n",
    "class ChangeBarValuesExample2(Scene):\n",
    "    def construct(self):\n",
    "        # values=[-10, -8, -6, -4, -2, 0, 2, 4, 6, 8, 10]\n",
    "\n",
    "        # chart = BarChart(\n",
    "        #     values,\n",
    "        #     y_range=[-10, 10, 2],\n",
    "        #     y_axis_config={\"font_size\": 24},\n",
    "        # )\n",
    "\n",
    "\n",
    "        value_trackers = [\n",
    "            ValueTracker(-5),\n",
    "            ValueTracker(40),\n",
    "            ValueTracker(10),\n",
    "            ValueTracker(-20),\n",
    "            ValueTracker(3),\n",
    "        ]\n",
    "\n",
    "        integer_vals = []\n",
    "        for tracker in value_trackers:\n",
    "            integer = Integer()\n",
    "            integer.add_updater(\n",
    "                lambda mob: mob.set_value(tracker.get_value())\n",
    "            )\n",
    "\n",
    "            integer_vals.append(integer)\n",
    "\n",
    "\n",
    "        chart = always_redraw(\n",
    "            lambda: BarChart(\n",
    "                values = [i.get_value() for i in integer_vals], #values=[-5, 40, 10, -20, 3],\n",
    "                bar_names=['one','two','three','four', 'five'],\n",
    "                y_range=[-20,50, 10],\n",
    "                y_length=6,\n",
    "                x_length=10, \n",
    "                x_axis_config={\"font_size\":36},\n",
    "            )\n",
    "        )\n",
    "        # self.play(Create(chart))\n",
    "        self.add(chart)\n",
    "\n",
    "        self.play(*[\n",
    "            tracker.animate.set_value(20) for tracker in value_trackers], \n",
    "            run_time=5, \n",
    "            rate_func=linear\n",
    "        )\n",
    "\n",
    "        # chart.change_bar_values(list(reversed(values)))\n",
    "        # self.add(chart.get_bar_labels(font_size=24))\n",
    "        # self.play(Create(chart.get_bar_labels(font_size=24)))"
   ]
  },
  {
   "cell_type": "code",
   "execution_count": 19,
   "metadata": {},
   "outputs": [
    {
     "name": "stderr",
     "output_type": "stream",
     "text": [
      "                                                                                                         \r"
     ]
    },
    {
     "data": {
      "text/html": [
       "<video src=\"media/jupyter/ChangeBarValuesExample2@2023-09-06@21-14-55.mp4\" controls autoplay loop style=\"max-width: 75%;\"  >\n",
       "      Your browser does not support the <code>video</code> element.\n",
       "    </video>"
      ],
      "text/plain": [
       "<IPython.core.display.Video object>"
      ]
     },
     "metadata": {},
     "output_type": "display_data"
    }
   ],
   "source": [
    "%%manim -qm ChangeBarValuesExample2\n",
    "\n",
    "\n",
    "class ChangeBarValuesExample2(Scene):\n",
    "    def construct(self):\n",
    "\n",
    "        hist_values = [\n",
    "            [1,2,3,4],\n",
    "            [2,3,4,5],\n",
    "            [3,4,5,6],\n",
    "            [4,5,6,7],\n",
    "            [5,6,7,8],\n",
    "            [6,7,8,9],\n",
    "            [8,7.5, 9.2, 9.9],\n",
    "            [10.2, 10, 11, 10.7],\n",
    "            [11.8, 12.2, 11.9, 12.3],\n",
    "        ]\n",
    "\n",
    "        bar_names = ['Simba', 'Luna', 'Ragnar', 'Emma']\n",
    "        chart = BarChart(\n",
    "            values = hist_values[0],\n",
    "            bar_names=bar_names,\n",
    "            y_range=[0,15, 10],\n",
    "            y_length=6,\n",
    "            x_length=10, \n",
    "            x_axis_config={\"font_size\":36},\n",
    "        )\n",
    "\n",
    "        self.add(chart)\n",
    "\n",
    "        \n",
    "        for i, row in enumerate(hist_values[1:],): #skip first line since it was already added\n",
    "            self.play(chart.animate.change_bar_values(row), rate_func=linear)"
   ]
  },
  {
   "cell_type": "code",
   "execution_count": 12,
   "metadata": {},
   "outputs": [
    {
     "name": "stderr",
     "output_type": "stream",
     "text": [
      "                                                                                  \r"
     ]
    },
    {
     "data": {
      "text/html": [
       "<video src=\"media/jupyter/ImageFromFile@2023-09-07@16-05-06.mp4\" controls autoplay loop style=\"max-width: 75%;\"  >\n",
       "      Your browser does not support the <code>video</code> element.\n",
       "    </video>"
      ],
      "text/plain": [
       "<IPython.core.display.Video object>"
      ]
     },
     "metadata": {},
     "output_type": "display_data"
    }
   ],
   "source": [
    "%%manim -qm ImageFromFile\n",
    "\n",
    "\n",
    "class ImageFromFile(Scene):\n",
    "    def construct(self):\n",
    "        image = ImageMobject('images/Simba.png')\n",
    "        image.height = 7\n",
    "        image.scale(0.5)\n",
    "\n",
    "        text = Tex(\"This is Simba\")\n",
    "\n",
    "        image.next_to(text, UP)\n",
    "\n",
    "        self.play(Write(text))\n",
    "        self.play(FadeIn(image))\n",
    "        # self.add(image)\n",
    "\n",
    "        # label_img = VGroup(image, text)\n",
    "\n",
    "\n",
    "        # self.play(label_img.animate.shift(DOWN))\n",
    "        self.wait()"
   ]
  },
  {
   "cell_type": "code",
   "execution_count": 14,
   "metadata": {},
   "outputs": [
    {
     "data": {
      "text/plain": [
       "array([ 0., -1.,  0.])"
      ]
     },
     "execution_count": 14,
     "metadata": {},
     "output_type": "execute_result"
    }
   ],
   "source": [
    "DOWN"
   ]
  },
  {
   "cell_type": "code",
   "execution_count": 19,
   "metadata": {},
   "outputs": [
    {
     "data": {
      "text/plain": [
       "[PosixPath('images/Tiny.png'),\n",
       " PosixPath('images/Simba.png'),\n",
       " PosixPath('images/Rolo.png'),\n",
       " PosixPath('images/Ragnar.png'),\n",
       " PosixPath('images/Luna.png'),\n",
       " PosixPath('images/Jucumari.png'),\n",
       " PosixPath('images/Emma.png'),\n",
       " PosixPath('images/Black2.png'),\n",
       " PosixPath('images/Black1.png'),\n",
       " PosixPath('images/Big Black.png')]"
      ]
     },
     "execution_count": 19,
     "metadata": {},
     "output_type": "execute_result"
    }
   ],
   "source": [
    "#list files in directory\n",
    "\n",
    "all_paths = Path('images').glob('**/*')\n",
    "\n",
    "files = [f for f in all_paths if f.is_file()]\n",
    "\n",
    "files"
   ]
  },
  {
   "cell_type": "code",
   "execution_count": 20,
   "metadata": {},
   "outputs": [
    {
     "data": {
      "text/plain": [
       "'Tiny.png'"
      ]
     },
     "execution_count": 20,
     "metadata": {},
     "output_type": "execute_result"
    }
   ],
   "source": [
    "files[0].name"
   ]
  },
  {
   "cell_type": "code",
   "execution_count": 37,
   "metadata": {},
   "outputs": [],
   "source": [
    "hist_values = [\n",
    "    [1,2,3,4],\n",
    "    [2,3,4,5],\n",
    "    [3,4,5,6],\n",
    "    [4,5,6,7],\n",
    "    [5,6,7,8],\n",
    "    [6,7,8,9],\n",
    "    [8,7.5, 9.2, 9.9],\n",
    "    [10.2, 10, 11, 10.7],\n",
    "    [11.8, 12.2, 11.9, 12.3],\n",
    "]\n",
    "\n",
    "bar_names = ['Simba', 'Luna', 'Ragnar', 'Emma']\n",
    "chart = BarChart(\n",
    "    values = hist_values[0],\n",
    "    bar_names=bar_names,\n",
    "    y_range=[0,15, 10],\n",
    "    y_length=6,\n",
    "    x_length=10, \n",
    "    x_axis_config={\"font_size\":36},\n",
    ")\n"
   ]
  },
  {
   "cell_type": "code",
   "execution_count": 39,
   "metadata": {},
   "outputs": [
    {
     "data": {
      "text/plain": [
       "VGroup(Rectangle, Rectangle, Rectangle, Rectangle)"
      ]
     },
     "execution_count": 39,
     "metadata": {},
     "output_type": "execute_result"
    }
   ],
   "source": [
    "chart.bars"
   ]
  },
  {
   "cell_type": "code",
   "execution_count": 40,
   "metadata": {},
   "outputs": [],
   "source": [
    "b = chart.bars"
   ]
  },
  {
   "cell_type": "code",
   "execution_count": 43,
   "metadata": {},
   "outputs": [
    {
     "data": {
      "text/plain": [
       "['Simba', 'Luna', 'Ragnar', 'Emma']"
      ]
     },
     "execution_count": 43,
     "metadata": {},
     "output_type": "execute_result"
    }
   ],
   "source": [
    "chart.bar_names"
   ]
  },
  {
   "cell_type": "code",
   "execution_count": null,
   "metadata": {},
   "outputs": [],
   "source": [
    "%% manim -ql TestDates\n",
    "\n",
    "class TestDates(Scene):\n",
    "    def construct(self):\n",
    "\n",
    "        dates = [\n",
    "            '2023-09-01',\n",
    "            '2023-09-02',\n",
    "            '2023-09-03',\n",
    "            '2023-09-04',\n",
    "            '2023-09-05',\n",
    "            '2023-09-06',\n",
    "        ]\n",
    "\n",
    "        \n",
    "        date_text = always_redraw(\n",
    "            lambda: Text()\n",
    "        )"
   ]
  },
  {
   "cell_type": "code",
   "execution_count": null,
   "metadata": {},
   "outputs": [],
   "source": [
    "for row in csv_df.itertuples():\n",
    "    weights = list(row[1:])\n",
    "\n",
    "    self.play(\n",
    "        chart.animate.change_bar_values(weights), \n",
    "        *[img.animate.next_to(bar, UP) for img, bar in zip(images, chart.bars)],\n",
    "        rate_func=linear, \n",
    "        run_time=0.1,\n",
    "    )"
   ]
  },
  {
   "cell_type": "code",
   "execution_count": 47,
   "metadata": {},
   "outputs": [
    {
     "name": "stderr",
     "output_type": "stream",
     "text": [
      "                                                                                   \r"
     ]
    },
    {
     "ename": "TypeError",
     "evalue": "list indices must be integers or slices, not numpy.float64",
     "output_type": "error",
     "traceback": [
      "\u001b[0;31m---------------------------------------------------------------------------\u001b[0m",
      "\u001b[0;31mTypeError\u001b[0m                                 Traceback (most recent call last)",
      "Cell \u001b[0;32mIn[47], line 1\u001b[0m\n\u001b[0;32m----> 1\u001b[0m get_ipython()\u001b[39m.\u001b[39;49mrun_cell_magic(\u001b[39m'\u001b[39;49m\u001b[39mmanim\u001b[39;49m\u001b[39m'\u001b[39;49m, \u001b[39m'\u001b[39;49m\u001b[39m-ql TextUpdaterTest\u001b[39;49m\u001b[39m'\u001b[39;49m, \u001b[39m\"\u001b[39;49m\u001b[39m\\n\u001b[39;49;00m\u001b[39m\\n\u001b[39;49;00m\u001b[39mclass TextUpdaterTest(Scene):\u001b[39;49m\u001b[39m\\n\u001b[39;49;00m\u001b[39m    def construct(self):\u001b[39;49m\u001b[39m\\n\u001b[39;49;00m\u001b[39m        dates = [\u001b[39;49m\u001b[39m\\n\u001b[39;49;00m\u001b[39m            \u001b[39;49m\u001b[39m'\u001b[39;49m\u001b[39m2023-09-01\u001b[39;49m\u001b[39m'\u001b[39;49m\u001b[39m,\u001b[39;49m\u001b[39m\\n\u001b[39;49;00m\u001b[39m            \u001b[39;49m\u001b[39m'\u001b[39;49m\u001b[39m2023-09-02\u001b[39;49m\u001b[39m'\u001b[39;49m\u001b[39m,\u001b[39;49m\u001b[39m\\n\u001b[39;49;00m\u001b[39m            \u001b[39;49m\u001b[39m'\u001b[39;49m\u001b[39m2023-09-03\u001b[39;49m\u001b[39m'\u001b[39;49m\u001b[39m,\u001b[39;49m\u001b[39m\\n\u001b[39;49;00m\u001b[39m            \u001b[39;49m\u001b[39m'\u001b[39;49m\u001b[39m2023-09-04\u001b[39;49m\u001b[39m'\u001b[39;49m\u001b[39m,\u001b[39;49m\u001b[39m\\n\u001b[39;49;00m\u001b[39m            \u001b[39;49m\u001b[39m'\u001b[39;49m\u001b[39m2023-09-05\u001b[39;49m\u001b[39m'\u001b[39;49m\u001b[39m,\u001b[39;49m\u001b[39m\\n\u001b[39;49;00m\u001b[39m            \u001b[39;49m\u001b[39m'\u001b[39;49m\u001b[39m2023-09-06\u001b[39;49m\u001b[39m'\u001b[39;49m\u001b[39m,\u001b[39;49m\u001b[39m\\n\u001b[39;49;00m\u001b[39m        ]\u001b[39;49m\u001b[39m\\n\u001b[39;49;00m\u001b[39m\\n\u001b[39;49;00m\u001b[39m        idx_tracker = ValueTracker(0)\u001b[39;49m\u001b[39m\\n\u001b[39;49;00m\u001b[39m\\n\u001b[39;49;00m\u001b[39m        text_date = Tex(dates[0], color=GREEN)\u001b[39;49m\u001b[39m\\n\u001b[39;49;00m\u001b[39m\\n\u001b[39;49;00m\u001b[39m        text_date.add_updater(\u001b[39;49m\u001b[39m\\n\u001b[39;49;00m\u001b[39m            lambda mob: mob.become(Tex(dates[idx_tracker.get_value()], color=GREEN))\u001b[39;49m\u001b[39m\\n\u001b[39;49;00m\u001b[39m        )\u001b[39;49m\u001b[39m\\n\u001b[39;49;00m\u001b[39m\\n\u001b[39;49;00m\u001b[39m        self.add(text_date)\u001b[39;49m\u001b[39m\\n\u001b[39;49;00m\u001b[39m        self.wait()\u001b[39;49m\u001b[39m\\n\u001b[39;49;00m\u001b[39m\\n\u001b[39;49;00m\u001b[39m        self.play(idx_tracker.animate.set_value(5))\u001b[39;49m\u001b[39m\\n\u001b[39;49;00m\u001b[39m\"\u001b[39;49m)\n",
      "File \u001b[0;32m~/miniconda3/envs/manim/lib/python3.11/site-packages/IPython/core/interactiveshell.py:2478\u001b[0m, in \u001b[0;36mInteractiveShell.run_cell_magic\u001b[0;34m(self, magic_name, line, cell)\u001b[0m\n\u001b[1;32m   2476\u001b[0m \u001b[39mwith\u001b[39;00m \u001b[39mself\u001b[39m\u001b[39m.\u001b[39mbuiltin_trap:\n\u001b[1;32m   2477\u001b[0m     args \u001b[39m=\u001b[39m (magic_arg_s, cell)\n\u001b[0;32m-> 2478\u001b[0m     result \u001b[39m=\u001b[39m fn(\u001b[39m*\u001b[39;49margs, \u001b[39m*\u001b[39;49m\u001b[39m*\u001b[39;49mkwargs)\n\u001b[1;32m   2480\u001b[0m \u001b[39m# The code below prevents the output from being displayed\u001b[39;00m\n\u001b[1;32m   2481\u001b[0m \u001b[39m# when using magics with decodator @output_can_be_silenced\u001b[39;00m\n\u001b[1;32m   2482\u001b[0m \u001b[39m# when the last Python token in the expression is a ';'.\u001b[39;00m\n\u001b[1;32m   2483\u001b[0m \u001b[39mif\u001b[39;00m \u001b[39mgetattr\u001b[39m(fn, magic\u001b[39m.\u001b[39mMAGIC_OUTPUT_CAN_BE_SILENCED, \u001b[39mFalse\u001b[39;00m):\n",
      "File \u001b[0;32m~/miniconda3/envs/manim/lib/python3.11/site-packages/manim/utils/ipython_magic.py:141\u001b[0m, in \u001b[0;36mManimMagic.manim\u001b[0;34m(self, line, cell, local_ns)\u001b[0m\n\u001b[1;32m    139\u001b[0m     SceneClass \u001b[39m=\u001b[39m local_ns[config[\u001b[39m\"\u001b[39m\u001b[39mscene_names\u001b[39m\u001b[39m\"\u001b[39m][\u001b[39m0\u001b[39m]]\n\u001b[1;32m    140\u001b[0m     scene \u001b[39m=\u001b[39m SceneClass(renderer\u001b[39m=\u001b[39mrenderer)\n\u001b[0;32m--> 141\u001b[0m     scene\u001b[39m.\u001b[39;49mrender()\n\u001b[1;32m    142\u001b[0m \u001b[39mfinally\u001b[39;00m:\n\u001b[1;32m    143\u001b[0m     \u001b[39m# Shader cache becomes invalid as the context is destroyed\u001b[39;00m\n\u001b[1;32m    144\u001b[0m     shader_program_cache\u001b[39m.\u001b[39mclear()\n",
      "File \u001b[0;32m~/miniconda3/envs/manim/lib/python3.11/site-packages/manim/scene/scene.py:223\u001b[0m, in \u001b[0;36mScene.render\u001b[0;34m(self, preview)\u001b[0m\n\u001b[1;32m    221\u001b[0m \u001b[39mself\u001b[39m\u001b[39m.\u001b[39msetup()\n\u001b[1;32m    222\u001b[0m \u001b[39mtry\u001b[39;00m:\n\u001b[0;32m--> 223\u001b[0m     \u001b[39mself\u001b[39;49m\u001b[39m.\u001b[39;49mconstruct()\n\u001b[1;32m    224\u001b[0m \u001b[39mexcept\u001b[39;00m EndSceneEarlyException:\n\u001b[1;32m    225\u001b[0m     \u001b[39mpass\u001b[39;00m\n",
      "File \u001b[0;32m<string>:25\u001b[0m, in \u001b[0;36mconstruct\u001b[0;34m(self)\u001b[0m\n",
      "File \u001b[0;32m~/miniconda3/envs/manim/lib/python3.11/site-packages/manim/scene/scene.py:1082\u001b[0m, in \u001b[0;36mScene.play\u001b[0;34m(self, subcaption, subcaption_duration, subcaption_offset, *args, **kwargs)\u001b[0m\n\u001b[1;32m   1079\u001b[0m     \u001b[39mreturn\u001b[39;00m\n\u001b[1;32m   1081\u001b[0m start_time \u001b[39m=\u001b[39m \u001b[39mself\u001b[39m\u001b[39m.\u001b[39mrenderer\u001b[39m.\u001b[39mtime\n\u001b[0;32m-> 1082\u001b[0m \u001b[39mself\u001b[39;49m\u001b[39m.\u001b[39;49mrenderer\u001b[39m.\u001b[39;49mplay(\u001b[39mself\u001b[39;49m, \u001b[39m*\u001b[39;49margs, \u001b[39m*\u001b[39;49m\u001b[39m*\u001b[39;49mkwargs)\n\u001b[1;32m   1083\u001b[0m run_time \u001b[39m=\u001b[39m \u001b[39mself\u001b[39m\u001b[39m.\u001b[39mrenderer\u001b[39m.\u001b[39mtime \u001b[39m-\u001b[39m start_time\n\u001b[1;32m   1084\u001b[0m \u001b[39mif\u001b[39;00m subcaption:\n",
      "File \u001b[0;32m~/miniconda3/envs/manim/lib/python3.11/site-packages/manim/renderer/cairo_renderer.py:104\u001b[0m, in \u001b[0;36mCairoRenderer.play\u001b[0;34m(self, scene, *args, **kwargs)\u001b[0m\n\u001b[1;32m    102\u001b[0m     \u001b[39mself\u001b[39m\u001b[39m.\u001b[39mfreeze_current_frame(scene\u001b[39m.\u001b[39mduration)\n\u001b[1;32m    103\u001b[0m \u001b[39melse\u001b[39;00m:\n\u001b[0;32m--> 104\u001b[0m     scene\u001b[39m.\u001b[39;49mplay_internal()\n\u001b[1;32m    105\u001b[0m \u001b[39mself\u001b[39m\u001b[39m.\u001b[39mfile_writer\u001b[39m.\u001b[39mend_animation(\u001b[39mnot\u001b[39;00m \u001b[39mself\u001b[39m\u001b[39m.\u001b[39mskip_animations)\n\u001b[1;32m    107\u001b[0m \u001b[39mself\u001b[39m\u001b[39m.\u001b[39mnum_plays \u001b[39m+\u001b[39m\u001b[39m=\u001b[39m \u001b[39m1\u001b[39m\n",
      "File \u001b[0;32m~/miniconda3/envs/manim/lib/python3.11/site-packages/manim/scene/scene.py:1245\u001b[0m, in \u001b[0;36mScene.play_internal\u001b[0;34m(self, skip_rendering)\u001b[0m\n\u001b[1;32m   1240\u001b[0m \u001b[39mself\u001b[39m\u001b[39m.\u001b[39mtime_progression \u001b[39m=\u001b[39m \u001b[39mself\u001b[39m\u001b[39m.\u001b[39m_get_animation_time_progression(\n\u001b[1;32m   1241\u001b[0m     \u001b[39mself\u001b[39m\u001b[39m.\u001b[39manimations,\n\u001b[1;32m   1242\u001b[0m     \u001b[39mself\u001b[39m\u001b[39m.\u001b[39mduration,\n\u001b[1;32m   1243\u001b[0m )\n\u001b[1;32m   1244\u001b[0m \u001b[39mfor\u001b[39;00m t \u001b[39min\u001b[39;00m \u001b[39mself\u001b[39m\u001b[39m.\u001b[39mtime_progression:\n\u001b[0;32m-> 1245\u001b[0m     \u001b[39mself\u001b[39;49m\u001b[39m.\u001b[39;49mupdate_to_time(t)\n\u001b[1;32m   1246\u001b[0m     \u001b[39mif\u001b[39;00m \u001b[39mnot\u001b[39;00m skip_rendering \u001b[39mand\u001b[39;00m \u001b[39mnot\u001b[39;00m \u001b[39mself\u001b[39m\u001b[39m.\u001b[39mskip_animation_preview:\n\u001b[1;32m   1247\u001b[0m         \u001b[39mself\u001b[39m\u001b[39m.\u001b[39mrenderer\u001b[39m.\u001b[39mrender(\u001b[39mself\u001b[39m, t, \u001b[39mself\u001b[39m\u001b[39m.\u001b[39mmoving_mobjects)\n",
      "File \u001b[0;32m~/miniconda3/envs/manim/lib/python3.11/site-packages/manim/scene/scene.py:1479\u001b[0m, in \u001b[0;36mScene.update_to_time\u001b[0;34m(self, t)\u001b[0m\n\u001b[1;32m   1477\u001b[0m     alpha \u001b[39m=\u001b[39m t \u001b[39m/\u001b[39m animation\u001b[39m.\u001b[39mrun_time\n\u001b[1;32m   1478\u001b[0m     animation\u001b[39m.\u001b[39minterpolate(alpha)\n\u001b[0;32m-> 1479\u001b[0m \u001b[39mself\u001b[39;49m\u001b[39m.\u001b[39;49mupdate_mobjects(dt)\n\u001b[1;32m   1480\u001b[0m \u001b[39mself\u001b[39m\u001b[39m.\u001b[39mupdate_meshes(dt)\n\u001b[1;32m   1481\u001b[0m \u001b[39mself\u001b[39m\u001b[39m.\u001b[39mupdate_self(dt)\n",
      "File \u001b[0;32m~/miniconda3/envs/manim/lib/python3.11/site-packages/manim/scene/scene.py:342\u001b[0m, in \u001b[0;36mScene.update_mobjects\u001b[0;34m(self, dt)\u001b[0m\n\u001b[1;32m    333\u001b[0m \u001b[39m\u001b[39m\u001b[39m\"\"\"\u001b[39;00m\n\u001b[1;32m    334\u001b[0m \u001b[39mBegins updating all mobjects in the Scene.\u001b[39;00m\n\u001b[1;32m    335\u001b[0m \n\u001b[0;32m   (...)\u001b[0m\n\u001b[1;32m    339\u001b[0m \u001b[39m    Change in time between updates. Defaults (mostly) to 1/frames_per_second\u001b[39;00m\n\u001b[1;32m    340\u001b[0m \u001b[39m\"\"\"\u001b[39;00m\n\u001b[1;32m    341\u001b[0m \u001b[39mfor\u001b[39;00m mobject \u001b[39min\u001b[39;00m \u001b[39mself\u001b[39m\u001b[39m.\u001b[39mmobjects:\n\u001b[0;32m--> 342\u001b[0m     mobject\u001b[39m.\u001b[39;49mupdate(dt)\n",
      "File \u001b[0;32m~/miniconda3/envs/manim/lib/python3.11/site-packages/manim/mobject/mobject.py:843\u001b[0m, in \u001b[0;36mMobject.update\u001b[0;34m(self, dt, recursive)\u001b[0m\n\u001b[1;32m    841\u001b[0m         updater(\u001b[39mself\u001b[39m, dt)\n\u001b[1;32m    842\u001b[0m     \u001b[39melse\u001b[39;00m:\n\u001b[0;32m--> 843\u001b[0m         updater(\u001b[39mself\u001b[39;49m)\n\u001b[1;32m    844\u001b[0m \u001b[39mif\u001b[39;00m recursive:\n\u001b[1;32m    845\u001b[0m     \u001b[39mfor\u001b[39;00m submob \u001b[39min\u001b[39;00m \u001b[39mself\u001b[39m\u001b[39m.\u001b[39msubmobjects:\n",
      "File \u001b[0;32m<string>:19\u001b[0m, in \u001b[0;36m<lambda>\u001b[0;34m(mob)\u001b[0m\n",
      "\u001b[0;31mTypeError\u001b[0m: list indices must be integers or slices, not numpy.float64"
     ]
    }
   ],
   "source": [
    "%%manim -ql TextUpdaterTest\n",
    "\n",
    "\n",
    "class TextUpdaterTest(Scene):\n",
    "    def construct(self):\n",
    "        dates = [\n",
    "            '2023-09-01',\n",
    "            '2023-09-02',\n",
    "            '2023-09-03',\n",
    "            '2023-09-04',\n",
    "            '2023-09-05',\n",
    "            '2023-09-06',\n",
    "        ]\n",
    "\n",
    "        idx_tracker = ValueTracker(0)\n",
    "\n",
    "        text_date = Tex(dates[0], color=GREEN)\n",
    "\n",
    "        text_date.add_updater(\n",
    "            lambda mob: mob.become(Tex(dates[idx_tracker.get_value()], color=GREEN))\n",
    "        )\n",
    "\n",
    "        self.add(text_date)\n",
    "        self.wait()\n",
    "\n",
    "        self.play(idx_tracker.animate.set_value(5))"
   ]
  },
  {
   "cell_type": "code",
   "execution_count": 50,
   "metadata": {},
   "outputs": [
    {
     "data": {
      "text/plain": [
       "VGroup(NumberLine, NumberLine)"
      ]
     },
     "execution_count": 50,
     "metadata": {},
     "output_type": "execute_result"
    }
   ],
   "source": [
    "chart.get_axes()"
   ]
  },
  {
   "cell_type": "code",
   "execution_count": null,
   "metadata": {},
   "outputs": [],
   "source": []
  }
 ],
 "metadata": {
  "kernelspec": {
   "display_name": "manim",
   "language": "python",
   "name": "python3"
  },
  "language_info": {
   "codemirror_mode": {
    "name": "ipython",
    "version": 3
   },
   "file_extension": ".py",
   "mimetype": "text/x-python",
   "name": "python",
   "nbconvert_exporter": "python",
   "pygments_lexer": "ipython3",
   "version": "3.11.3"
  },
  "orig_nbformat": 4
 },
 "nbformat": 4,
 "nbformat_minor": 2
}
